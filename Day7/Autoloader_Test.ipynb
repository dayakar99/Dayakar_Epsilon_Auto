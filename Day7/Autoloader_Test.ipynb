{
 "cells": [
  {
   "cell_type": "code",
   "execution_count": 0,
   "metadata": {
    "application/vnd.databricks.v1+cell": {
     "cellMetadata": {
      "byteLimit": 2048000,
      "rowLimit": 10000
     },
     "inputWidgets": {},
     "nuid": "feb881aa-4267-4452-940c-f0f45c14c93f",
     "showTitle": false,
     "tableResultSettingsMap": {},
     "title": ""
    }
   },
   "outputs": [],
   "source": [
    "input=\"s3://jpmctraining/input\"\n",
    "schema=\"s3://jpmctraining/checkpoint/dayakar/autoloader/schema3\"\n",
    "checkpoint=\"s3://jpmctraining/checkpoint/dayakar/autoloader/checkpoint3\""
   ]
  },
  {
   "cell_type": "code",
   "execution_count": 0,
   "metadata": {
    "application/vnd.databricks.v1+cell": {
     "cellMetadata": {
      "byteLimit": 2048000,
      "rowLimit": 10000
     },
     "inputWidgets": {},
     "nuid": "569d458a-8c7f-4fc0-9779-565e715a9f55",
     "showTitle": false,
     "tableResultSettingsMap": {},
     "title": ""
    }
   },
   "outputs": [],
   "source": [
    "(\n",
    "spark\n",
    " .readStream\n",
    " .format(\"cloudFiles\")\n",
    " .option(\"cloudFiles.format\",\"json\")\n",
    " .option(\"cloudFiles.schemaLocation\",schema)\n",
    " .option(\"cloudFiles.inferColumnTypes\",True)\n",
    " .option(\"cloudFiles.schemaEvolutionMode\",\"rescue\")\n",
    " .load(input)\n",
    " .writeStream\n",
    " .option(\"checkpointLocation\",checkpoint)\n",
    " .option(\"mergeSchema\",True)\n",
    " #.trigger(once=True)\n",
    " .toTable(\"auto.dayakar_bronze.custmedicalinfo\")\n",
    " )"
   ]
  },
  {
   "cell_type": "code",
   "execution_count": 0,
   "metadata": {
    "application/vnd.databricks.v1+cell": {
     "cellMetadata": {
      "byteLimit": 2048000,
      "implicitDf": true,
      "rowLimit": 10000
     },
     "inputWidgets": {},
     "nuid": "2d474b93-21af-4fd0-9ada-b4e279408c8f",
     "showTitle": false,
     "tableResultSettingsMap": {},
     "title": ""
    }
   },
   "outputs": [],
   "source": [
    "%sql\n",
    "select * from auto.dayakar_bronze.custmedicalinfo --version as of 1"
   ]
  }
 ],
 "metadata": {
  "application/vnd.databricks.v1+notebook": {
   "computePreferences": null,
   "dashboards": [],
   "environmentMetadata": {
    "base_environment": "",
    "environment_version": "2"
   },
   "inputWidgetPreferences": null,
   "language": "python",
   "notebookMetadata": {
    "mostRecentlyExecutedCommandWithImplicitDF": {
     "commandId": 5482134786470812,
     "dataframes": [
      "_sqldf"
     ]
    },
    "pythonIndentUnit": 4
   },
   "notebookName": "Autoloader_Test",
   "widgets": {}
  },
  "language_info": {
   "name": "python"
  }
 },
 "nbformat": 4,
 "nbformat_minor": 0
}
