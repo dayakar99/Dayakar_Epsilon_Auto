{
 "cells": [
  {
   "cell_type": "code",
   "execution_count": 0,
   "metadata": {
    "application/vnd.databricks.v1+cell": {
     "cellMetadata": {},
     "inputWidgets": {},
     "nuid": "9a99d910-8f97-4873-9c8d-f7fc7f7ffe9b",
     "showTitle": false,
     "tableResultSettingsMap": {},
     "title": ""
    }
   },
   "outputs": [],
   "source": [
    "dynamic view\n",
    "\n",
    "\n",
    "databricks docs\n",
    "\n",
    "data ingestion (theory) and step\n",
    "\n",
    "unstructured \n",
    "\n",
    "schema==== BI-- Power BI\n",
    "\n",
    "Databricks CLI \n",
    "web\n",
    "vs code\n",
    "\n",
    "DABs \n",
    "\n",
    "Machine learning\n",
    "\n",
    "AI\n"
   ]
  }
 ],
 "metadata": {
  "application/vnd.databricks.v1+notebook": {
   "computePreferences": null,
   "dashboards": [],
   "environmentMetadata": {
    "base_environment": "",
    "environment_version": "2"
   },
   "inputWidgetPreferences": null,
   "language": "sql",
   "notebookMetadata": {},
   "notebookName": "Agenda",
   "widgets": {}
  },
  "language_info": {
   "name": "sql"
  }
 },
 "nbformat": 4,
 "nbformat_minor": 0
}
