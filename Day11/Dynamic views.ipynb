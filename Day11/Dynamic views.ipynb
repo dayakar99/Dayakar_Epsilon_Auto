{
 "cells": [
  {
   "cell_type": "code",
   "execution_count": 0,
   "metadata": {
    "application/vnd.databricks.v1+cell": {
     "cellMetadata": {},
     "inputWidgets": {},
     "nuid": "60a11b81-bc26-4604-b26b-4112c56b2ee6",
     "showTitle": false,
     "tableResultSettingsMap": {},
     "title": ""
    }
   },
   "outputs": [],
   "source": [
    "https://docs.databricks.com/gcp/en/views/dynamic"
   ]
  },
  {
   "cell_type": "code",
   "execution_count": 0,
   "metadata": {
    "application/vnd.databricks.v1+cell": {
     "cellMetadata": {
      "byteLimit": 2048000,
      "rowLimit": 10000
     },
     "inputWidgets": {},
     "nuid": "9970751b-4f54-4950-9c76-7157650b8536",
     "showTitle": false,
     "tableResultSettingsMap": {},
     "title": ""
    }
   },
   "outputs": [],
   "source": [
    "use catalog auto;\n",
    "use dayakar_silver;"
   ]
  },
  {
   "cell_type": "code",
   "execution_count": 0,
   "metadata": {
    "application/vnd.databricks.v1+cell": {
     "cellMetadata": {
      "byteLimit": 2048000,
      "rowLimit": 10000
     },
     "inputWidgets": {},
     "nuid": "56cfdca0-1279-4e96-9dcf-df08c9ff6151",
     "showTitle": false,
     "tableResultSettingsMap": {},
     "title": ""
    }
   },
   "outputs": [],
   "source": [
    "CREATE OR REPLACE TABLE heartrate_device (device_id INT, mrn STRING, name STRING, time TIMESTAMP, heartrate DOUBLE);\n",
    "\n",
    "INSERT INTO heartrate_device VALUES\n",
    "  (23, \"40580129\", \"Nicholas Spears\", \"2020-02-01T00:01:58.000+0000\", 54.0122153343),\n",
    "  (17, \"52804177\", \"Lynn Russell\", \"2020-02-01T00:02:55.000+0000\", 92.5136468131),\n",
    "  (37, \"65300842\", \"Samuel Hughes\", \"2020-02-01T00:08:58.000+0000\", 52.1354807863),\n",
    "  (23, \"40580129\", \"Nicholas Spears\", \"2020-02-01T00:16:51.000+0000\", 54.6477014191),\n",
    "  (17, \"52804177\", \"Lynn Russell\", \"2020-02-01T00:18:08.000+0000\", 95.033344842);\n",
    "  \n",
    "SELECT * FROM heartrate_device"
   ]
  },
  {
   "cell_type": "code",
   "execution_count": 0,
   "metadata": {
    "application/vnd.databricks.v1+cell": {
     "cellMetadata": {
      "byteLimit": 2048000,
      "rowLimit": 10000
     },
     "inputWidgets": {},
     "nuid": "f339ec28-f28a-4780-8f04-c586ec755d1c",
     "showTitle": false,
     "tableResultSettingsMap": {},
     "title": ""
    }
   },
   "outputs": [],
   "source": [
    "select * from auto.naval_gold.agg_heartrate"
   ]
  },
  {
   "cell_type": "code",
   "execution_count": 0,
   "metadata": {
    "application/vnd.databricks.v1+cell": {
     "cellMetadata": {
      "byteLimit": 2048000,
      "rowLimit": 10000
     },
     "inputWidgets": {},
     "nuid": "d2fd02c8-1555-4cec-984d-ccfc2d676c0b",
     "showTitle": false,
     "tableResultSettingsMap": {},
     "title": ""
    }
   },
   "outputs": [],
   "source": [
    "INSERT INTO heartrate_device VALUES\n",
    "  (23, \"40580129\", \"Nicholas Spears\", \"2020-02-01T00:01:58.000+0000\", 54.0122153343),\n",
    "  (17, \"52804177\", \"Lynn Russell\", \"2020-02-01T00:02:55.000+0000\", 92.5136468131),\n",
    "  (37, \"65300842\", \"Samuel Hughes\", \"2020-02-01T00:08:58.000+0000\", 52.1354807863),\n",
    "  (23, \"40580129\", \"Nicholas Spears\", \"2020-02-01T00:16:51.000+0000\", 54.6477014191),\n",
    "  (17, \"52804177\", \"Lynn Russell\", \"2020-02-01T00:18:08.000+0000\", 95.033344842);\n",
    "  \n",
    "SELECT * FROM auto.dayakar_silver.heartrate_device"
   ]
  },
  {
   "cell_type": "code",
   "execution_count": 0,
   "metadata": {
    "application/vnd.databricks.v1+cell": {
     "cellMetadata": {
      "byteLimit": 2048000,
      "rowLimit": 10000
     },
     "inputWidgets": {},
     "nuid": "3669718a-d533-461d-8f3e-c7eb3e1fdcb2",
     "showTitle": false,
     "tableResultSettingsMap": {},
     "title": ""
    }
   },
   "outputs": [],
   "source": [
    "CREATE OR REPLACE VIEW dayakar_gold.agg_heartrate AS (\n",
    "  SELECT mrn, name, MEAN(heartrate) avg_heartrate, DATE_TRUNC(\"DD\", time) date\n",
    "  FROM heartrate_device\n",
    "  GROUP BY mrn, name, DATE_TRUNC(\"DD\", time)\n",
    ");\n",
    "SELECT * FROM dayakar_gold.agg_heartrate"
   ]
  },
  {
   "cell_type": "markdown",
   "metadata": {
    "application/vnd.databricks.v1+cell": {
     "cellMetadata": {},
     "inputWidgets": {},
     "nuid": "3d978516-17eb-4af4-9019-e3ff515cd326",
     "showTitle": false,
     "tableResultSettingsMap": {},
     "title": ""
    }
   },
   "source": [
    "Column-level **permissions**"
   ]
  },
  {
   "cell_type": "code",
   "execution_count": 0,
   "metadata": {
    "application/vnd.databricks.v1+cell": {
     "cellMetadata": {
      "byteLimit": 2048000,
      "rowLimit": 10000
     },
     "inputWidgets": {},
     "nuid": "8eabddc9-b5ef-40f7-a871-0ae00f47f6ed",
     "showTitle": false,
     "tableResultSettingsMap": {},
     "title": ""
    }
   },
   "outputs": [],
   "source": [
    "CREATE OR REPLACE VIEW dayakar_gold.agg_heartrate AS (\n",
    "  SELECT \n",
    "  CASE WHEN\n",
    "    is_account_group_member('de') THEN mrn   --# 'de' is the group of users.\n",
    "    ELSE 'REDACTED'\n",
    "  END AS mrn, \n",
    "  name, \n",
    "  MEAN(heartrate) avg_heartrate, \n",
    "  DATE_TRUNC(\"DD\", time) date\n",
    "  FROM heartrate_device\n",
    "  GROUP BY mrn, name, DATE_TRUNC(\"DD\", time)\n",
    ");"
   ]
  },
  {
   "cell_type": "code",
   "execution_count": 0,
   "metadata": {
    "application/vnd.databricks.v1+cell": {
     "cellMetadata": {
      "byteLimit": 2048000,
      "rowLimit": 10000
     },
     "inputWidgets": {},
     "nuid": "0760c812-2761-4b11-926d-8c355e2bb974",
     "showTitle": false,
     "tableResultSettingsMap": {},
     "title": ""
    }
   },
   "outputs": [],
   "source": [
    "CREATE OR REPLACE VIEW dayakar_gold.agg_heartrate AS (\n",
    "  SELECT \n",
    "  CASE WHEN\n",
    "    is_account_group_member('de') THEN 'REDACTED'\n",
    "    ELSE mrn\n",
    "  END AS mrn, \n",
    "  name, \n",
    "  MEAN(heartrate) avg_heartrate, \n",
    "  DATE_TRUNC(\"DD\", time) date\n",
    "  FROM heartrate_device\n",
    "  GROUP BY mrn, name, DATE_TRUNC(\"DD\", time)\n",
    ");"
   ]
  },
  {
   "cell_type": "code",
   "execution_count": 0,
   "metadata": {
    "application/vnd.databricks.v1+cell": {
     "cellMetadata": {
      "byteLimit": 2048000,
      "rowLimit": 10000
     },
     "inputWidgets": {},
     "nuid": "972ae02e-2f36-4840-a76d-79a77bbccbbf",
     "showTitle": false,
     "tableResultSettingsMap": {},
     "title": ""
    }
   },
   "outputs": [],
   "source": [
    "select *from dayakar_gold.agg_heartrate"
   ]
  },
  {
   "cell_type": "markdown",
   "metadata": {
    "application/vnd.databricks.v1+cell": {
     "cellMetadata": {},
     "inputWidgets": {},
     "nuid": "f8119100-dd4e-4092-bc0a-da0c7c61be8c",
     "showTitle": false,
     "tableResultSettingsMap": {},
     "title": ""
    }
   },
   "source": [
    "**Row-level permissions**"
   ]
  },
  {
   "cell_type": "code",
   "execution_count": 0,
   "metadata": {
    "application/vnd.databricks.v1+cell": {
     "cellMetadata": {
      "byteLimit": 2048000,
      "rowLimit": 10000
     },
     "inputWidgets": {},
     "nuid": "9f9a2db7-dfe4-4832-92ea-d9647e329141",
     "showTitle": false,
     "tableResultSettingsMap": {},
     "title": ""
    }
   },
   "outputs": [],
   "source": [
    "SELECT * FROM heartrate_device  "
   ]
  },
  {
   "cell_type": "code",
   "execution_count": 0,
   "metadata": {
    "application/vnd.databricks.v1+cell": {
     "cellMetadata": {
      "byteLimit": 2048000,
      "rowLimit": 10000
     },
     "inputWidgets": {},
     "nuid": "c559df91-0875-4e98-9b0f-87a4ada2bb99",
     "showTitle": false,
     "tableResultSettingsMap": {},
     "title": ""
    }
   },
   "outputs": [],
   "source": [
    "create or replace view auto.dayakar_gold.heartrate \n",
    "as \n",
    "SELECT * FROM auto.dayakar_silver.heartrate_device  \n",
    "where\n",
    "CASE\n",
    "    WHEN is_account_group_member('account users') THEN device_id>17\n",
    "    ELSE True\n",
    "  END;"
   ]
  },
  {
   "cell_type": "code",
   "execution_count": 0,
   "metadata": {
    "application/vnd.databricks.v1+cell": {
     "cellMetadata": {
      "byteLimit": 2048000,
      "rowLimit": 10000
     },
     "inputWidgets": {},
     "nuid": "0bb55131-680e-4d15-ac18-af1f0d2098c0",
     "showTitle": false,
     "tableResultSettingsMap": {},
     "title": ""
    }
   },
   "outputs": [],
   "source": [
    "select * from auto.dayakar_gold.heartrate "
   ]
  },
  {
   "cell_type": "code",
   "execution_count": 0,
   "metadata": {
    "application/vnd.databricks.v1+cell": {
     "cellMetadata": {
      "byteLimit": 2048000,
      "rowLimit": 10000
     },
     "inputWidgets": {},
     "nuid": "85c1ff97-f42e-4819-b91c-b26731c7e077",
     "showTitle": false,
     "tableResultSettingsMap": {},
     "title": ""
    }
   },
   "outputs": [],
   "source": [
    "--#Task : redacted mrn column and records where device_id>17\n",
    "CREATE OR REPLACE VIEW dayakar_gold.agg_heartrate AS (\n",
    "  SELECT \n",
    "  CASE WHEN\n",
    "    is_account_group_member('account users') THEN 'REDACTED'   --# here it show as Redacted to all the users.\n",
    "    ELSE mrn\n",
    "  END AS mrn, \n",
    "  name, \n",
    "  MEAN(heartrate) avg_heartrate, \n",
    "  DATE_TRUNC(\"DD\", time) date\n",
    "  FROM dayakar_silver.heartrate_device\n",
    "  where\n",
    "  CASE\n",
    "    WHEN is_account_group_member('account users') THEN heartrate>53\n",
    "    ELSE True\n",
    "  END\n",
    "  GROUP BY mrn, name, DATE_TRUNC(\"DD\", time)\n",
    ");"
   ]
  },
  {
   "cell_type": "code",
   "execution_count": 0,
   "metadata": {
    "application/vnd.databricks.v1+cell": {
     "cellMetadata": {
      "byteLimit": 2048000,
      "rowLimit": 10000
     },
     "inputWidgets": {},
     "nuid": "f95904ff-f1ed-4b25-9617-bd6f7d789312",
     "showTitle": false,
     "tableResultSettingsMap": {},
     "title": ""
    }
   },
   "outputs": [],
   "source": [
    "CREATE OR REPLACE FUNCTION datamask(x STRING)\n",
    "  RETURNS STRING\n",
    "  RETURN CONCAT(REPEAT(\"*\", LENGTH(x) - 4), RIGHT(x, 4)\n",
    "); "
   ]
  },
  {
   "cell_type": "code",
   "execution_count": 0,
   "metadata": {
    "application/vnd.databricks.v1+cell": {
     "cellMetadata": {
      "byteLimit": 2048000,
      "rowLimit": 10000
     },
     "inputWidgets": {},
     "nuid": "e1343000-a1c3-4b91-b7d7-1f77204ac7d4",
     "showTitle": false,
     "tableResultSettingsMap": {},
     "title": ""
    }
   },
   "outputs": [],
   "source": [
    "select datamask(\"dayakar.bn@gmail.com\") as mask"
   ]
  },
  {
   "cell_type": "code",
   "execution_count": 0,
   "metadata": {
    "application/vnd.databricks.v1+cell": {
     "cellMetadata": {
      "byteLimit": 2048000,
      "rowLimit": 10000
     },
     "inputWidgets": {},
     "nuid": "9eeb039f-ace0-426a-b8c6-e4fa169bfb6d",
     "showTitle": false,
     "tableResultSettingsMap": {},
     "title": ""
    }
   },
   "outputs": [],
   "source": [
    "select * from dayakar_gold.agg_heartrate"
   ]
  }
 ],
 "metadata": {
  "application/vnd.databricks.v1+notebook": {
   "computePreferences": null,
   "dashboards": [],
   "environmentMetadata": {
    "base_environment": "",
    "environment_version": "2"
   },
   "inputWidgetPreferences": null,
   "language": "sql",
   "notebookMetadata": {
    "pythonIndentUnit": 4
   },
   "notebookName": "Dynamic views",
   "widgets": {}
  },
  "language_info": {
   "name": "sql"
  }
 },
 "nbformat": 4,
 "nbformat_minor": 0
}
