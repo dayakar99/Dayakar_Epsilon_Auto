{
 "cells": [
  {
   "cell_type": "code",
   "execution_count": 0,
   "metadata": {
    "application/vnd.databricks.v1+cell": {
     "cellMetadata": {},
     "inputWidgets": {},
     "nuid": "9eeb4d99-fc66-4edd-afeb-bb6118537267",
     "showTitle": false,
     "tableResultSettingsMap": {},
     "title": ""
    }
   },
   "outputs": [],
   "source": [
    "csv,json,parquet,avro, orc, xml, xls, etc etc\n",
    "\n",
    "parquet\n",
    "\n",
    "\n",
    "csv(1gb)\n",
    "\n",
    "60%-90%, 97%\n",
    "\n",
    "parquet (17mb)"
   ]
  },
  {
   "cell_type": "code",
   "execution_count": 0,
   "metadata": {
    "application/vnd.databricks.v1+cell": {
     "cellMetadata": {},
     "inputWidgets": {},
     "nuid": "45ab27e7-a71e-413f-8b17-db5a06674456",
     "showTitle": false,
     "tableResultSettingsMap": {},
     "title": ""
    }
   },
   "outputs": [],
   "source": [
    "Advanced table formats: Iceberg, Delta, Hudi (Uniform)\n",
    "\n",
    "Iceberg (Parquet) (Open source) \n",
    "Delta Lake (Parquet)(open source)--- databricks  \n",
    "Hudi (Parquet)"
   ]
  }
 ],
 "metadata": {
  "application/vnd.databricks.v1+notebook": {
   "computePreferences": null,
   "dashboards": [],
   "environmentMetadata": {
    "base_environment": "",
    "environment_version": "2"
   },
   "inputWidgetPreferences": null,
   "language": "sql",
   "notebookMetadata": {
    "pythonIndentUnit": 4
   },
   "notebookName": "Big Data Formats",
   "widgets": {}
  },
  "language_info": {
   "name": "sql"
  }
 },
 "nbformat": 4,
 "nbformat_minor": 0
}
