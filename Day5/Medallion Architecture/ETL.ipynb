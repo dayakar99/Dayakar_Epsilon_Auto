{
 "cells": [
  {
   "cell_type": "code",
   "execution_count": 0,
   "metadata": {
    "application/vnd.databricks.v1+cell": {
     "cellMetadata": {
      "byteLimit": 2048000,
      "rowLimit": 10000
     },
     "inputWidgets": {},
     "nuid": "2d150939-64a6-421b-b04d-c4a7fa749eb3",
     "showTitle": false,
     "tableResultSettingsMap": {},
     "title": ""
    }
   },
   "outputs": [],
   "source": [
    "dbutils.help()\n",
    "dbutils.widgets.help()"
   ]
  },
  {
   "cell_type": "code",
   "execution_count": 0,
   "metadata": {
    "application/vnd.databricks.v1+cell": {
     "cellMetadata": {
      "byteLimit": 2048000,
      "rowLimit": 10000
     },
     "inputWidgets": {},
     "nuid": "8fe675a0-1122-401b-ba75-3b2bcd1a2fa2",
     "showTitle": false,
     "tableResultSettingsMap": {},
     "title": ""
    }
   },
   "outputs": [],
   "source": [
    "%run \"/Workspace/Users/dayakar.bn@gmail.com/DataBricks_Training/Prod_ETL/Includes\""
   ]
  },
  {
   "cell_type": "code",
   "execution_count": 0,
   "metadata": {
    "application/vnd.databricks.v1+cell": {
     "cellMetadata": {
      "byteLimit": 2048000,
      "implicitDf": true,
      "rowLimit": 10000
     },
     "inputWidgets": {},
     "nuid": "ac60fc7a-1bfe-435d-93a0-f779d2600016",
     "showTitle": false,
     "tableResultSettingsMap": {},
     "title": ""
    }
   },
   "outputs": [],
   "source": [
    "dbutils.widgets.text(\"catalog\",\"auto\")\n",
    "dbutils.widgets.text(\"schema\",\"dayakar\")\n",
    "dbutils.widgets.text(\"tablename\",\"tblname\")\n",
    "catalog=dbutils.widgets.get(\"catalog\")\n",
    "schema=dbutils.widgets.get(\"schema\")\n",
    "tablename=dbutils.widgets.get(\"tablename\")"
   ]
  },
  {
   "cell_type": "code",
   "execution_count": 0,
   "metadata": {
    "application/vnd.databricks.v1+cell": {
     "cellMetadata": {
      "byteLimit": 2048000,
      "rowLimit": 10000
     },
     "inputWidgets": {},
     "nuid": "eec3c4b2-c100-43eb-b0c1-1040073bfecd",
     "showTitle": true,
     "tableResultSettingsMap": {},
     "title": "Load"
    }
   },
   "outputs": [],
   "source": [
    "#reading\n",
    "df=spark.read.csv(f\"{input_path}{tablename}.csv\",header=True,inferSchema=True)\n",
    "df1=add_ingestion_col(df)\n",
    "df1.write.mode(\"overwrite\").saveAsTable(f\"{catalog}.{schema}.{tablename}\")"
   ]
  },
  {
   "cell_type": "code",
   "execution_count": 0,
   "metadata": {
    "application/vnd.databricks.v1+cell": {
     "cellMetadata": {
      "byteLimit": 2048000,
      "rowLimit": 10000
     },
     "inputWidgets": {},
     "nuid": "4cb410d2-5ca2-4eba-8364-7e59a7761d03",
     "showTitle": false,
     "tableResultSettingsMap": {},
     "title": ""
    }
   },
   "outputs": [],
   "source": [
    "#dbutils.help()\n",
    "#dbutils.widgets.help()"
   ]
  }
 ],
 "metadata": {
  "application/vnd.databricks.v1+notebook": {
   "computePreferences": null,
   "dashboards": [],
   "environmentMetadata": {
    "base_environment": "",
    "environment_version": "2"
   },
   "inputWidgetPreferences": null,
   "language": "python",
   "notebookMetadata": {
    "mostRecentlyExecutedCommandWithImplicitDF": {
     "commandId": -1,
     "dataframes": [
      "_sqldf"
     ]
    },
    "pythonIndentUnit": 4
   },
   "notebookName": "ETL",
   "widgets": {
    "catalog": {
     "currentValue": "dev",
     "nuid": "0d4e4804-70e8-486f-a8fc-6224b5a309ad",
     "typedWidgetInfo": {
      "autoCreated": false,
      "defaultValue": "auto",
      "label": null,
      "name": "catalog",
      "options": {
       "widgetDisplayType": "Text",
       "validationRegex": null
      },
      "parameterDataType": "String"
     },
     "widgetInfo": {
      "widgetType": "text",
      "defaultValue": "auto",
      "label": null,
      "name": "catalog",
      "options": {
       "widgetType": "text",
       "autoCreated": null,
       "validationRegex": null
      }
     }
    },
    "schema": {
     "currentValue": "default",
     "nuid": "535251dc-3487-4364-b2eb-4673d610c731",
     "typedWidgetInfo": {
      "autoCreated": false,
      "defaultValue": "dayakar",
      "label": null,
      "name": "schema",
      "options": {
       "widgetDisplayType": "Text",
       "validationRegex": null
      },
      "parameterDataType": "String"
     },
     "widgetInfo": {
      "widgetType": "text",
      "defaultValue": "dayakar",
      "label": null,
      "name": "schema",
      "options": {
       "widgetType": "text",
       "autoCreated": null,
       "validationRegex": null
      }
     }
    },
    "tablename": {
     "currentValue": "tblname",
     "nuid": "92176203-7265-49e5-996e-9aa721eb0fae",
     "typedWidgetInfo": {
      "autoCreated": false,
      "defaultValue": "tblname",
      "label": null,
      "name": "tablename",
      "options": {
       "widgetDisplayType": "Text",
       "validationRegex": null
      },
      "parameterDataType": "String"
     },
     "widgetInfo": {
      "widgetType": "text",
      "defaultValue": "tblname",
      "label": null,
      "name": "tablename",
      "options": {
       "widgetType": "text",
       "autoCreated": null,
       "validationRegex": null
      }
     }
    }
   }
  },
  "language_info": {
   "name": "python"
  }
 },
 "nbformat": 4,
 "nbformat_minor": 0
}
