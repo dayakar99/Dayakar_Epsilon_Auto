{
 "cells": [
  {
   "cell_type": "code",
   "execution_count": 0,
   "metadata": {
    "application/vnd.databricks.v1+cell": {
     "cellMetadata": {},
     "inputWidgets": {},
     "nuid": "900dd430-7c0d-49f2-9151-f43a5dae24c2",
     "showTitle": false,
     "tableResultSettingsMap": {},
     "title": ""
    }
   },
   "outputs": [],
   "source": [
    "Managed -- default location \n",
    "DROP ( table + metadata(parquet+delta log))\n",
    "\n",
    "\n",
    "\n",
    "external-- user location\n",
    "drop (table)"
   ]
  },
  {
   "cell_type": "code",
   "execution_count": 0,
   "metadata": {
    "application/vnd.databricks.v1+cell": {
     "cellMetadata": {},
     "inputWidgets": {},
     "nuid": "e37fa1f1-e34a-4623-9b78-625d1cfdc7c4",
     "showTitle": true,
     "tableResultSettingsMap": {},
     "title": "Managed"
    }
   },
   "outputs": [],
   "source": [
    "df=spark.read.json(\"path\")\n",
    "df.write.saveAsTable(\"tblname\")\n",
    "\n",
    "create table tbname as \n",
    "select * from json.`path`\n",
    "\n",
    "\n",
    "create table tblname (id int) "
   ]
  },
  {
   "cell_type": "code",
   "execution_count": 0,
   "metadata": {
    "application/vnd.databricks.v1+cell": {
     "cellMetadata": {},
     "inputWidgets": {},
     "nuid": "3a1d32ca-1d09-4489-b856-397f7dd56886",
     "showTitle": true,
     "tableResultSettingsMap": {},
     "title": "External"
    }
   },
   "outputs": [],
   "source": [
    "df=spark.read.json(\"path\")\n",
    "df.write.option(\"path\",\"s3/\").saveAsTable(\"tblname\")\n",
    "\n",
    "create table tbname location 'S3' as \n",
    "select * from json.`path`\n",
    "\n",
    "\n",
    "create table tblname (id int) location 's3'"
   ]
  },
  {
   "cell_type": "code",
   "execution_count": 0,
   "metadata": {
    "application/vnd.databricks.v1+cell": {
     "cellMetadata": {},
     "inputWidgets": {},
     "nuid": "ed723e34-f771-469c-8021-b891ac833d97",
     "showTitle": false,
     "tableResultSettingsMap": {},
     "title": ""
    }
   },
   "outputs": [],
   "source": [
    "create table auto.naval.sample (id int) location 's3://jpmctraining/auto/naval/sample'"
   ]
  },
  {
   "cell_type": "code",
   "execution_count": 0,
   "metadata": {
    "application/vnd.databricks.v1+cell": {
     "cellMetadata": {
      "byteLimit": 2048000,
      "rowLimit": 10000
     },
     "inputWidgets": {},
     "nuid": "7ab0d13e-490e-4172-a33c-a90f87d458af",
     "showTitle": false,
     "tableResultSettingsMap": {},
     "title": ""
    }
   },
   "outputs": [],
   "source": [
    "create table auto.dayakar.service_dpt (id int) location 's3://jpmctraining/auto/dayakar/service_dpt'"
   ]
  },
  {
   "cell_type": "code",
   "execution_count": 0,
   "metadata": {
    "application/vnd.databricks.v1+cell": {
     "cellMetadata": {
      "byteLimit": 2048000,
      "rowLimit": 10000
     },
     "inputWidgets": {},
     "nuid": "3cabaca0-8362-4cd2-b029-530eff5efcc8",
     "showTitle": false,
     "tableResultSettingsMap": {},
     "title": ""
    }
   },
   "outputs": [],
   "source": [
    "insert into auto.dayakar.service_dpt values (1),(2)"
   ]
  },
  {
   "cell_type": "code",
   "execution_count": 0,
   "metadata": {
    "application/vnd.databricks.v1+cell": {
     "cellMetadata": {
      "byteLimit": 2048000,
      "rowLimit": 10000
     },
     "inputWidgets": {},
     "nuid": "86eafad8-bbd6-4608-ab88-41065eaa6616",
     "showTitle": false,
     "tableResultSettingsMap": {},
     "title": ""
    }
   },
   "outputs": [],
   "source": [
    "describe extended auto.dayakar.service_dpt"
   ]
  },
  {
   "cell_type": "code",
   "execution_count": 0,
   "metadata": {
    "application/vnd.databricks.v1+cell": {
     "cellMetadata": {
      "byteLimit": 2048000,
      "rowLimit": 10000
     },
     "inputWidgets": {},
     "nuid": "44701bb5-3b5c-48be-baba-ea5579c9e64a",
     "showTitle": false,
     "tableResultSettingsMap": {},
     "title": ""
    }
   },
   "outputs": [],
   "source": [
    "desc extended auto.dayakar.sales_dpt"
   ]
  },
  {
   "cell_type": "code",
   "execution_count": 0,
   "metadata": {
    "application/vnd.databricks.v1+cell": {
     "cellMetadata": {
      "byteLimit": 2048000,
      "rowLimit": 10000
     },
     "inputWidgets": {},
     "nuid": "a5da864e-b88d-4919-87fe-c7749b256cc4",
     "showTitle": false,
     "tableResultSettingsMap": {},
     "title": ""
    }
   },
   "outputs": [],
   "source": [
    "drop table auto.dayakar.service_dpt"
   ]
  },
  {
   "cell_type": "code",
   "execution_count": 0,
   "metadata": {
    "application/vnd.databricks.v1+cell": {
     "cellMetadata": {
      "byteLimit": 2048000,
      "rowLimit": 10000
     },
     "inputWidgets": {},
     "nuid": "1363dab4-4854-4874-a108-ffffb9475a22",
     "showTitle": false,
     "tableResultSettingsMap": {},
     "title": ""
    }
   },
   "outputs": [],
   "source": [
    "select *from auto.dayakar.service_dpt"
   ]
  },
  {
   "cell_type": "code",
   "execution_count": 0,
   "metadata": {
    "application/vnd.databricks.v1+cell": {
     "cellMetadata": {
      "byteLimit": 2048000,
      "rowLimit": 10000
     },
     "inputWidgets": {},
     "nuid": "f0bc7c76-aa85-43fd-a6fc-10e8f21cb3b3",
     "showTitle": true,
     "tableResultSettingsMap": {},
     "title": "External Table can Undrop"
    }
   },
   "outputs": [],
   "source": [
    "undrop table auto.dayakar.service_dpt"
   ]
  }
 ],
 "metadata": {
  "application/vnd.databricks.v1+notebook": {
   "computePreferences": null,
   "dashboards": [],
   "environmentMetadata": {
    "base_environment": "",
    "environment_version": "2"
   },
   "inputWidgetPreferences": null,
   "language": "sql",
   "notebookMetadata": {
    "pythonIndentUnit": 4
   },
   "notebookName": "Managed vs External",
   "widgets": {}
  },
  "language_info": {
   "name": "sql"
  }
 },
 "nbformat": 4,
 "nbformat_minor": 0
}
